{
 "cells": [
  {
   "cell_type": "code",
   "execution_count": 1,
   "id": "47bfefb5",
   "metadata": {
    "scrolled": false
   },
   "outputs": [
    {
     "name": "stdout",
     "output_type": "stream",
     "text": [
      "Requirement already satisfied: autoscraper in c:\\users\\admin\\anaconda3\\lib\\site-packages (1.1.12)\n",
      "Requirement already satisfied: requests in c:\\users\\admin\\anaconda3\\lib\\site-packages (from autoscraper) (2.25.1)\n",
      "Requirement already satisfied: lxml in c:\\users\\admin\\anaconda3\\lib\\site-packages (from autoscraper) (4.6.3)\n",
      "Requirement already satisfied: bs4 in c:\\users\\admin\\anaconda3\\lib\\site-packages (from autoscraper) (0.0.1)\n",
      "Requirement already satisfied: beautifulsoup4 in c:\\users\\admin\\anaconda3\\lib\\site-packages (from bs4->autoscraper) (4.9.3)\n",
      "Requirement already satisfied: soupsieve>1.2 in c:\\users\\admin\\anaconda3\\lib\\site-packages (from beautifulsoup4->bs4->autoscraper) (2.2.1)\n",
      "Requirement already satisfied: chardet<5,>=3.0.2 in c:\\users\\admin\\anaconda3\\lib\\site-packages (from requests->autoscraper) (4.0.0)\n",
      "Requirement already satisfied: idna<3,>=2.5 in c:\\users\\admin\\anaconda3\\lib\\site-packages (from requests->autoscraper) (2.10)\n",
      "Requirement already satisfied: certifi>=2017.4.17 in c:\\users\\admin\\anaconda3\\lib\\site-packages (from requests->autoscraper) (2020.12.5)\n",
      "Requirement already satisfied: urllib3<1.27,>=1.21.1 in c:\\users\\admin\\anaconda3\\lib\\site-packages (from requests->autoscraper) (1.26.4)\n"
     ]
    }
   ],
   "source": [
    "!pip install autoscraper "
   ]
  },
  {
   "cell_type": "code",
   "execution_count": 2,
   "id": "58e8d1ea",
   "metadata": {
    "scrolled": true
   },
   "outputs": [],
   "source": [
    "from autoscraper import AutoScraper"
   ]
  },
  {
   "cell_type": "code",
   "execution_count": 7,
   "id": "c7915147",
   "metadata": {},
   "outputs": [],
   "source": [
    "amazon_url = \"https://www.amazon.in/s?k=iphones\"\n",
    "\n",
    "Wanted_list = [\"₹54,900\",\"Apple iPhone 11 (128GB) - Purple\"]"
   ]
  },
  {
   "cell_type": "code",
   "execution_count": 15,
   "id": "65b0cce8",
   "metadata": {
    "scrolled": false
   },
   "outputs": [
    {
     "name": "stdout",
     "output_type": "stream",
     "text": [
      "['₹49,900', '₹14,399', '₹24,999', '₹60,990', '₹70,900', '₹73,990', '₹79,900', '₹59,999', '₹53,999', '₹54,900', '₹54,999', '₹65,900', '₹74,900', '₹84,900', '₹89,900', '₹69,900', '₹37,999', '₹47,900', '₹13,999', 'Apple iPhone 11 (64GB) - White', '5s Gold Compatible with Apple iPhone with 8 Mega Pixel Camera(16GB Internal Memory)', 'Apple iPhone 12 (128GB) - Blue', 'Apple iPhone 13 (128GB) - Blue', 'Apple iPhone 12 (128GB) - Black', 'Apple iPhone 11 (64GB) - Black', 'Apple iPhone 12 (64GB) - Blue', 'Apple iPhone 11 (128GB) - White', 'Apple iPhone 12 (64GB) - Green', 'Apple iPhone 13 (128GB) - Pink', 'Apple iPhone 13 (256GB) - Starlight', 'Apple iPhone 13 Mini (128GB) - Blue', 'Apple iPhone 11 (128GB) - Purple', 'Apple iPhone XR (64GB) - White', '5s Gold Compatible with iPhone with 8 Mega Pixel Camera(16GB Internal Memory)', 'Apple iPhone 13 Mini (128GB) - Starlight']\n"
     ]
    }
   ],
   "source": [
    "scraper = AutoScraper()\n",
    "result = scraper.build(amazon_url,Wanted_list)\n",
    "print(result)"
   ]
  },
  {
   "cell_type": "code",
   "execution_count": 16,
   "id": "572164a6",
   "metadata": {},
   "outputs": [
    {
     "data": {
      "text/plain": [
       "{'rule_q4f9': ['₹49,900',\n",
       "  '₹14,399',\n",
       "  '₹24,999',\n",
       "  '₹60,990',\n",
       "  '₹70,900',\n",
       "  '₹73,990',\n",
       "  '₹79,900',\n",
       "  '₹59,999',\n",
       "  '₹70,900',\n",
       "  '₹49,900',\n",
       "  '₹53,999',\n",
       "  '₹79,900',\n",
       "  '₹54,900',\n",
       "  '₹54,999',\n",
       "  '₹65,900',\n",
       "  '₹74,900',\n",
       "  '₹79,900',\n",
       "  '₹84,900',\n",
       "  '₹89,900',\n",
       "  '₹69,900',\n",
       "  '₹54,900',\n",
       "  '₹37,999',\n",
       "  '₹47,900',\n",
       "  '₹13,999',\n",
       "  '₹24,999',\n",
       "  '₹69,900'],\n",
       " 'rule_67ck': ['₹49,900',\n",
       "  '₹14,399',\n",
       "  '₹24,999',\n",
       "  '₹60,990',\n",
       "  '₹70,900',\n",
       "  '₹73,990',\n",
       "  '₹79,900',\n",
       "  '₹59,999',\n",
       "  '₹70,900',\n",
       "  '₹49,900',\n",
       "  '₹53,999',\n",
       "  '₹79,900',\n",
       "  '₹54,900',\n",
       "  '₹54,999',\n",
       "  '₹65,900',\n",
       "  '₹74,900',\n",
       "  '₹79,900',\n",
       "  '₹84,900',\n",
       "  '₹89,900',\n",
       "  '₹69,900',\n",
       "  '₹54,900',\n",
       "  '₹37,999',\n",
       "  '₹47,900',\n",
       "  '₹13,999',\n",
       "  '₹24,999',\n",
       "  '₹69,900'],\n",
       " 'rule_siun': ['₹49,900',\n",
       "  '₹14,399',\n",
       "  '₹24,999',\n",
       "  '₹60,990',\n",
       "  '₹70,900',\n",
       "  '₹73,990',\n",
       "  '₹79,900',\n",
       "  '₹59,999',\n",
       "  '₹70,900',\n",
       "  '₹49,900',\n",
       "  '₹53,999',\n",
       "  '₹79,900',\n",
       "  '₹54,900',\n",
       "  '₹54,999',\n",
       "  '₹65,900',\n",
       "  '₹74,900',\n",
       "  '₹79,900',\n",
       "  '₹84,900',\n",
       "  '₹89,900',\n",
       "  '₹69,900',\n",
       "  '₹54,900',\n",
       "  '₹37,999',\n",
       "  '₹47,900',\n",
       "  '₹13,999',\n",
       "  '₹24,999',\n",
       "  '₹69,900'],\n",
       " 'rule_isz8': ['₹49,900',\n",
       "  '₹14,399',\n",
       "  '₹24,999',\n",
       "  '₹60,990',\n",
       "  '₹70,900',\n",
       "  '₹73,990',\n",
       "  '₹79,900',\n",
       "  '₹59,999',\n",
       "  '₹70,900',\n",
       "  '₹49,900',\n",
       "  '₹53,999',\n",
       "  '₹79,900',\n",
       "  '₹54,900',\n",
       "  '₹54,999',\n",
       "  '₹65,900',\n",
       "  '₹74,900',\n",
       "  '₹79,900',\n",
       "  '₹84,900',\n",
       "  '₹89,900',\n",
       "  '₹69,900',\n",
       "  '₹54,900',\n",
       "  '₹37,999',\n",
       "  '₹47,900',\n",
       "  '₹13,999',\n",
       "  '₹24,999',\n",
       "  '₹69,900'],\n",
       " 'rule_h64d': ['Apple iPhone 11 (64GB) - White',\n",
       "  '5s Gold Compatible with Apple iPhone with 8 Mega Pixel Camera(16GB Internal Memory)',\n",
       "  'Apple iPhone 12 (128GB) - Blue',\n",
       "  'Apple iPhone 13 (128GB) - Blue',\n",
       "  'Apple iPhone 12 (128GB) - Black',\n",
       "  'Apple iPhone 11 (64GB) - Black',\n",
       "  'Apple iPhone 12 (64GB) - Blue',\n",
       "  'Apple iPhone 11 (128GB) - White',\n",
       "  'Apple iPhone 12 (64GB) - Green',\n",
       "  'Apple iPhone 13 (128GB) - Pink',\n",
       "  'Apple iPhone 13 (256GB) - Starlight',\n",
       "  'Apple iPhone 13 Mini (128GB) - Blue',\n",
       "  'Apple iPhone 11 (128GB) - Purple',\n",
       "  'Apple iPhone XR (64GB) - White',\n",
       "  '5s Gold Compatible with iPhone with 8 Mega Pixel Camera(16GB Internal Memory)',\n",
       "  'Apple iPhone 13 Mini (128GB) - Starlight'],\n",
       " 'rule_xg4t': ['Apple iPhone 11 (64GB) - White',\n",
       "  '5s Gold Compatible with Apple iPhone with 8 Mega Pixel Camera(16GB Internal Memory)',\n",
       "  'Apple iPhone 12 (128GB) - Blue',\n",
       "  'Apple iPhone 13 (128GB) - Blue',\n",
       "  'Apple iPhone 12 (128GB) - Black',\n",
       "  'Apple iPhone 11 (64GB) - Black',\n",
       "  'Apple iPhone 12 (64GB) - Blue',\n",
       "  'Apple iPhone 11 (128GB) - White',\n",
       "  'Apple iPhone 12 (64GB) - Green',\n",
       "  'Apple iPhone 13 (128GB) - Pink',\n",
       "  'Apple iPhone 13 (256GB) - Starlight',\n",
       "  'Apple iPhone 13 Mini (128GB) - Blue',\n",
       "  'Apple iPhone 11 (128GB) - Purple',\n",
       "  'Apple iPhone XR (64GB) - White',\n",
       "  '5s Gold Compatible with iPhone with 8 Mega Pixel Camera(16GB Internal Memory)',\n",
       "  'Apple iPhone 13 Mini (128GB) - Starlight']}"
      ]
     },
     "execution_count": 16,
     "metadata": {},
     "output_type": "execute_result"
    }
   ],
   "source": [
    "scraper.get_result_similar(amazon_url,grouped=True)"
   ]
  },
  {
   "cell_type": "code",
   "execution_count": 17,
   "id": "d0892494",
   "metadata": {},
   "outputs": [],
   "source": [
    "scraper.set_rule_aliases({'rule_h64d':'Title','rule_q4f9': 'Price'})\n",
    "scraper.keep_rules(['rule_h64d','rule_q4f9'])\n",
    "scraper.save('amazon-search')"
   ]
  },
  {
   "cell_type": "code",
   "execution_count": 18,
   "id": "933b6a86",
   "metadata": {},
   "outputs": [],
   "source": [
    "results =scraper.get_result_similar('https://www.amazon.in/s?k=mi+phones',group_by_alias=True)"
   ]
  },
  {
   "cell_type": "code",
   "execution_count": 21,
   "id": "ce949573",
   "metadata": {},
   "outputs": [
    {
     "data": {
      "text/plain": [
       "['₹29,999',\n",
       " '₹34,999',\n",
       " '₹14,999',\n",
       " '₹19,999',\n",
       " '₹12,848',\n",
       " '₹15,999',\n",
       " '₹12,999',\n",
       " '₹29,999',\n",
       " '₹54,999',\n",
       " '₹59,999',\n",
       " '₹27,999',\n",
       " '₹33,999',\n",
       " '₹8,490',\n",
       " '₹14,999',\n",
       " '₹27,999',\n",
       " '₹33,999',\n",
       " '₹14,999',\n",
       " '₹19,999',\n",
       " '₹13,999',\n",
       " '₹17,999',\n",
       " '₹36,999',\n",
       " '₹47,999',\n",
       " '₹33,999',\n",
       " '₹47,999',\n",
       " '₹7,919.01',\n",
       " '₹11,499',\n",
       " '₹29,999',\n",
       " '₹34,999',\n",
       " '₹29,999',\n",
       " '₹34,999']"
      ]
     },
     "execution_count": 21,
     "metadata": {},
     "output_type": "execute_result"
    }
   ],
   "source": [
    "results['Price']"
   ]
  },
  {
   "cell_type": "code",
   "execution_count": null,
   "id": "98e0375e",
   "metadata": {},
   "outputs": [],
   "source": []
  }
 ],
 "metadata": {
  "kernelspec": {
   "display_name": "Python 3",
   "language": "python",
   "name": "python3"
  },
  "language_info": {
   "codemirror_mode": {
    "name": "ipython",
    "version": 3
   },
   "file_extension": ".py",
   "mimetype": "text/x-python",
   "name": "python",
   "nbconvert_exporter": "python",
   "pygments_lexer": "ipython3",
   "version": "3.8.8"
  }
 },
 "nbformat": 4,
 "nbformat_minor": 5
}
